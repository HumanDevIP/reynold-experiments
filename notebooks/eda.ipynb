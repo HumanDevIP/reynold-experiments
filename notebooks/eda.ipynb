{
 "cells": [
  {
   "cell_type": "code",
   "execution_count": 17,
   "metadata": {},
   "outputs": [],
   "source": [
    "import pandas as pd\n",
    "\n",
    "# Load Data\n",
    "# Using pyarrow\n",
    "train_df = pd.read_parquet('../data/original/train.parquet', engine='pyarrow')\n",
    "test_df = pd.read_parquet('../data/original/test.parquet', engine='pyarrow')"
   ]
  },
  {
   "cell_type": "markdown",
   "metadata": {},
   "source": [
    "# Exploratory Data Analysis (EDA)"
   ]
  },
  {
   "cell_type": "markdown",
   "metadata": {},
   "source": [
    "### Initial Exploration"
   ]
  },
  {
   "cell_type": "code",
   "execution_count": 2,
   "metadata": {},
   "outputs": [
    {
     "data": {
      "text/html": [
       "<div>\n",
       "<style scoped>\n",
       "    .dataframe tbody tr th:only-of-type {\n",
       "        vertical-align: middle;\n",
       "    }\n",
       "\n",
       "    .dataframe tbody tr th {\n",
       "        vertical-align: top;\n",
       "    }\n",
       "\n",
       "    .dataframe thead th {\n",
       "        text-align: right;\n",
       "    }\n",
       "</style>\n",
       "<table border=\"1\" class=\"dataframe\">\n",
       "  <thead>\n",
       "    <tr style=\"text-align: right;\">\n",
       "      <th></th>\n",
       "      <th>Unnamed: 0</th>\n",
       "      <th>index</th>\n",
       "      <th>claim_id</th>\n",
       "      <th>patent_application_id</th>\n",
       "      <th>cited_document_id</th>\n",
       "      <th>text</th>\n",
       "      <th>text_b</th>\n",
       "      <th>label</th>\n",
       "      <th>date</th>\n",
       "      <th>DIznQ_0</th>\n",
       "    </tr>\n",
       "  </thead>\n",
       "  <tbody>\n",
       "    <tr>\n",
       "      <th>0</th>\n",
       "      <td>1305885.0</td>\n",
       "      <td>1305885.0</td>\n",
       "      <td>12227_1</td>\n",
       "      <td>EP2709205A1</td>\n",
       "      <td>EP2302733</td>\n",
       "      <td>The method of any one of claims 7 to 9 wherein...</td>\n",
       "      <td>The radiator 220 may be injectionmolded such t...</td>\n",
       "      <td>1.0</td>\n",
       "      <td>20140319.0</td>\n",
       "      <td>0.948644</td>\n",
       "    </tr>\n",
       "    <tr>\n",
       "      <th>1</th>\n",
       "      <td>1863129.0</td>\n",
       "      <td>1863129.0</td>\n",
       "      <td>13691_1</td>\n",
       "      <td>EP2789543A1</td>\n",
       "      <td>EP1050468</td>\n",
       "      <td>A unit as claimed in claim 13 or 14 wherein sa...</td>\n",
       "      <td>On entering aseptic chamber 15 portion 2a of s...</td>\n",
       "      <td>1.0</td>\n",
       "      <td>20141015.0</td>\n",
       "      <td>0.766244</td>\n",
       "    </tr>\n",
       "    <tr>\n",
       "      <th>2</th>\n",
       "      <td>2464554.0</td>\n",
       "      <td>2464554.0</td>\n",
       "      <td>117819_1</td>\n",
       "      <td>EP2869250A1</td>\n",
       "      <td>EP2487969</td>\n",
       "      <td>A power management program that causes a compu...</td>\n",
       "      <td>It will also be appreciated that while a curre...</td>\n",
       "      <td>1.0</td>\n",
       "      <td>20150506.0</td>\n",
       "      <td>0.706817</td>\n",
       "    </tr>\n",
       "    <tr>\n",
       "      <th>3</th>\n",
       "      <td>4378804.0</td>\n",
       "      <td>4378804.0</td>\n",
       "      <td>168575_1</td>\n",
       "      <td>EP3087917A1</td>\n",
       "      <td>EP2113290</td>\n",
       "      <td>The system according to claim 10 wherein the e...</td>\n",
       "      <td>In 404 it is evaluated if a trend may be found...</td>\n",
       "      <td>1.0</td>\n",
       "      <td>20161102.0</td>\n",
       "      <td>0.364632</td>\n",
       "    </tr>\n",
       "    <tr>\n",
       "      <th>4</th>\n",
       "      <td>148019.0</td>\n",
       "      <td>148019.0</td>\n",
       "      <td>270_1</td>\n",
       "      <td>EP2500407A1</td>\n",
       "      <td>EP2290046</td>\n",
       "      <td>The composition of claim 10 wherein the waterm...</td>\n",
       "      <td>The watersoluble solvent includes but is not l...</td>\n",
       "      <td>1.0</td>\n",
       "      <td>20120919.0</td>\n",
       "      <td>0.560511</td>\n",
       "    </tr>\n",
       "  </tbody>\n",
       "</table>\n",
       "</div>"
      ],
      "text/plain": [
       "   Unnamed: 0      index  claim_id patent_application_id cited_document_id  \\\n",
       "0   1305885.0  1305885.0   12227_1           EP2709205A1         EP2302733   \n",
       "1   1863129.0  1863129.0   13691_1           EP2789543A1         EP1050468   \n",
       "2   2464554.0  2464554.0  117819_1           EP2869250A1         EP2487969   \n",
       "3   4378804.0  4378804.0  168575_1           EP3087917A1         EP2113290   \n",
       "4    148019.0   148019.0     270_1           EP2500407A1         EP2290046   \n",
       "\n",
       "                                                text  \\\n",
       "0  The method of any one of claims 7 to 9 wherein...   \n",
       "1  A unit as claimed in claim 13 or 14 wherein sa...   \n",
       "2  A power management program that causes a compu...   \n",
       "3  The system according to claim 10 wherein the e...   \n",
       "4  The composition of claim 10 wherein the waterm...   \n",
       "\n",
       "                                              text_b  label        date  \\\n",
       "0  The radiator 220 may be injectionmolded such t...    1.0  20140319.0   \n",
       "1  On entering aseptic chamber 15 portion 2a of s...    1.0  20141015.0   \n",
       "2  It will also be appreciated that while a curre...    1.0  20150506.0   \n",
       "3  In 404 it is evaluated if a trend may be found...    1.0  20161102.0   \n",
       "4  The watersoluble solvent includes but is not l...    1.0  20120919.0   \n",
       "\n",
       "    DIznQ_0  \n",
       "0  0.948644  \n",
       "1  0.766244  \n",
       "2  0.706817  \n",
       "3  0.364632  \n",
       "4  0.560511  "
      ]
     },
     "execution_count": 2,
     "metadata": {},
     "output_type": "execute_result"
    }
   ],
   "source": [
    "train_df.head()"
   ]
  },
  {
   "cell_type": "code",
   "execution_count": 3,
   "metadata": {},
   "outputs": [
    {
     "data": {
      "text/html": [
       "<div>\n",
       "<style scoped>\n",
       "    .dataframe tbody tr th:only-of-type {\n",
       "        vertical-align: middle;\n",
       "    }\n",
       "\n",
       "    .dataframe tbody tr th {\n",
       "        vertical-align: top;\n",
       "    }\n",
       "\n",
       "    .dataframe thead th {\n",
       "        text-align: right;\n",
       "    }\n",
       "</style>\n",
       "<table border=\"1\" class=\"dataframe\">\n",
       "  <thead>\n",
       "    <tr style=\"text-align: right;\">\n",
       "      <th></th>\n",
       "      <th>index</th>\n",
       "      <th>claim_id</th>\n",
       "      <th>patent_application_id</th>\n",
       "      <th>cited_document_id</th>\n",
       "      <th>text</th>\n",
       "      <th>text_b</th>\n",
       "      <th>label</th>\n",
       "      <th>date</th>\n",
       "      <th>DIznQ_0</th>\n",
       "    </tr>\n",
       "  </thead>\n",
       "  <tbody>\n",
       "    <tr>\n",
       "      <th>0</th>\n",
       "      <td>5908268.0</td>\n",
       "      <td>185449_1</td>\n",
       "      <td>EP3232604A1</td>\n",
       "      <td>EP2876857</td>\n",
       "      <td>The apparatus of claim 10 wherein the private ...</td>\n",
       "      <td>Upon receiving the request the cloud key manag...</td>\n",
       "      <td>1.0</td>\n",
       "      <td>20171018.0</td>\n",
       "      <td>0.828169</td>\n",
       "    </tr>\n",
       "    <tr>\n",
       "      <th>1</th>\n",
       "      <td>5260928.0</td>\n",
       "      <td>177213_0</td>\n",
       "      <td>EP3171449A1</td>\n",
       "      <td>EP2136431</td>\n",
       "      <td>The electrolyte of any of claims 13 wherein th...</td>\n",
       "      <td>The rechargeable lithiumair cell incorporating...</td>\n",
       "      <td>NaN</td>\n",
       "      <td>20170524.0</td>\n",
       "      <td>0.297525</td>\n",
       "    </tr>\n",
       "    <tr>\n",
       "      <th>2</th>\n",
       "      <td>5353323.0</td>\n",
       "      <td>180279_0</td>\n",
       "      <td>EP3178783A1</td>\n",
       "      <td>EP2811331</td>\n",
       "      <td>A device according to claim 2 or 3 wherein the...</td>\n",
       "      <td>Drive control of the laser scanning portion 1 ...</td>\n",
       "      <td>0.0</td>\n",
       "      <td>20170614.0</td>\n",
       "      <td>0.798218</td>\n",
       "    </tr>\n",
       "    <tr>\n",
       "      <th>3</th>\n",
       "      <td>5437800.0</td>\n",
       "      <td>122688_0</td>\n",
       "      <td>EP3185416A1</td>\n",
       "      <td>EP2648334</td>\n",
       "      <td>The electronic system according to claim 13 or...</td>\n",
       "      <td>In Example 7 the multistage charge amplifier o...</td>\n",
       "      <td>0.0</td>\n",
       "      <td>20170628.0</td>\n",
       "      <td>0.456076</td>\n",
       "    </tr>\n",
       "    <tr>\n",
       "      <th>4</th>\n",
       "      <td>5770091.0</td>\n",
       "      <td>203032_0</td>\n",
       "      <td>EP3213774A1</td>\n",
       "      <td>EP2340853</td>\n",
       "      <td>The biological indicator analyzer of any of cl...</td>\n",
       "      <td>The system depicted in Figures 27 and 30 may b...</td>\n",
       "      <td>0.0</td>\n",
       "      <td>20170906.0</td>\n",
       "      <td>0.853939</td>\n",
       "    </tr>\n",
       "  </tbody>\n",
       "</table>\n",
       "</div>"
      ],
      "text/plain": [
       "       index  claim_id patent_application_id cited_document_id  \\\n",
       "0  5908268.0  185449_1           EP3232604A1         EP2876857   \n",
       "1  5260928.0  177213_0           EP3171449A1         EP2136431   \n",
       "2  5353323.0  180279_0           EP3178783A1         EP2811331   \n",
       "3  5437800.0  122688_0           EP3185416A1         EP2648334   \n",
       "4  5770091.0  203032_0           EP3213774A1         EP2340853   \n",
       "\n",
       "                                                text  \\\n",
       "0  The apparatus of claim 10 wherein the private ...   \n",
       "1  The electrolyte of any of claims 13 wherein th...   \n",
       "2  A device according to claim 2 or 3 wherein the...   \n",
       "3  The electronic system according to claim 13 or...   \n",
       "4  The biological indicator analyzer of any of cl...   \n",
       "\n",
       "                                              text_b  label        date  \\\n",
       "0  Upon receiving the request the cloud key manag...    1.0  20171018.0   \n",
       "1  The rechargeable lithiumair cell incorporating...    NaN  20170524.0   \n",
       "2  Drive control of the laser scanning portion 1 ...    0.0  20170614.0   \n",
       "3  In Example 7 the multistage charge amplifier o...    0.0  20170628.0   \n",
       "4  The system depicted in Figures 27 and 30 may b...    0.0  20170906.0   \n",
       "\n",
       "    DIznQ_0  \n",
       "0  0.828169  \n",
       "1  0.297525  \n",
       "2  0.798218  \n",
       "3  0.456076  \n",
       "4  0.853939  "
      ]
     },
     "execution_count": 3,
     "metadata": {},
     "output_type": "execute_result"
    }
   ],
   "source": [
    "test_df.head()"
   ]
  },
  {
   "cell_type": "code",
   "execution_count": 4,
   "metadata": {},
   "outputs": [
    {
     "name": "stdout",
     "output_type": "stream",
     "text": [
      "<class 'pandas.core.frame.DataFrame'>\n",
      "RangeIndex: 3030 entries, 0 to 3029\n",
      "Data columns (total 10 columns):\n",
      " #   Column                 Non-Null Count  Dtype  \n",
      "---  ------                 --------------  -----  \n",
      " 0   Unnamed: 0             3000 non-null   float64\n",
      " 1   index                  2999 non-null   float64\n",
      " 2   claim_id               3000 non-null   object \n",
      " 3   patent_application_id  3000 non-null   object \n",
      " 4   cited_document_id      3000 non-null   object \n",
      " 5   text                   3000 non-null   object \n",
      " 6   text_b                 3000 non-null   object \n",
      " 7   label                  3000 non-null   float64\n",
      " 8   date                   3000 non-null   float64\n",
      " 9   DIznQ_0                3000 non-null   float64\n",
      "dtypes: float64(5), object(5)\n",
      "memory usage: 236.8+ KB\n"
     ]
    }
   ],
   "source": [
    "train_df.info()"
   ]
  },
  {
   "cell_type": "code",
   "execution_count": 11,
   "metadata": {},
   "outputs": [
    {
     "name": "stdout",
     "output_type": "stream",
     "text": [
      "<class 'pandas.core.frame.DataFrame'>\n",
      "RangeIndex: 808 entries, 0 to 807\n",
      "Data columns (total 9 columns):\n",
      " #   Column                 Non-Null Count  Dtype  \n",
      "---  ------                 --------------  -----  \n",
      " 0   index                  799 non-null    float64\n",
      " 1   claim_id               800 non-null    object \n",
      " 2   patent_application_id  800 non-null    object \n",
      " 3   cited_document_id      800 non-null    object \n",
      " 4   text                   800 non-null    object \n",
      " 5   text_b                 800 non-null    object \n",
      " 6   label                  799 non-null    float64\n",
      " 7   date                   800 non-null    float64\n",
      " 8   DIznQ_0                800 non-null    float64\n",
      "dtypes: float64(4), object(5)\n",
      "memory usage: 56.9+ KB\n"
     ]
    }
   ],
   "source": [
    "test_df.info()"
   ]
  },
  {
   "cell_type": "code",
   "execution_count": 8,
   "metadata": {},
   "outputs": [
    {
     "data": {
      "text/html": [
       "<div>\n",
       "<style scoped>\n",
       "    .dataframe tbody tr th:only-of-type {\n",
       "        vertical-align: middle;\n",
       "    }\n",
       "\n",
       "    .dataframe tbody tr th {\n",
       "        vertical-align: top;\n",
       "    }\n",
       "\n",
       "    .dataframe thead th {\n",
       "        text-align: right;\n",
       "    }\n",
       "</style>\n",
       "<table border=\"1\" class=\"dataframe\">\n",
       "  <thead>\n",
       "    <tr style=\"text-align: right;\">\n",
       "      <th></th>\n",
       "      <th>Unnamed: 0</th>\n",
       "      <th>index</th>\n",
       "      <th>label</th>\n",
       "      <th>date</th>\n",
       "      <th>DIznQ_0</th>\n",
       "    </tr>\n",
       "  </thead>\n",
       "  <tbody>\n",
       "    <tr>\n",
       "      <th>count</th>\n",
       "      <td>3.000000e+03</td>\n",
       "      <td>2.999000e+03</td>\n",
       "      <td>3000.000000</td>\n",
       "      <td>3.000000e+03</td>\n",
       "      <td>3000.000000</td>\n",
       "    </tr>\n",
       "    <tr>\n",
       "      <th>mean</th>\n",
       "      <td>2.506325e+06</td>\n",
       "      <td>2.504059e+06</td>\n",
       "      <td>0.584667</td>\n",
       "      <td>2.014775e+07</td>\n",
       "      <td>0.501175</td>\n",
       "    </tr>\n",
       "    <tr>\n",
       "      <th>std</th>\n",
       "      <td>1.440648e+06</td>\n",
       "      <td>1.442769e+06</td>\n",
       "      <td>0.492862</td>\n",
       "      <td>1.377118e+04</td>\n",
       "      <td>0.290670</td>\n",
       "    </tr>\n",
       "    <tr>\n",
       "      <th>min</th>\n",
       "      <td>1.088000e+03</td>\n",
       "      <td>1.088000e+03</td>\n",
       "      <td>0.000000</td>\n",
       "      <td>2.012070e+07</td>\n",
       "      <td>0.000468</td>\n",
       "    </tr>\n",
       "    <tr>\n",
       "      <th>25%</th>\n",
       "      <td>1.266688e+06</td>\n",
       "      <td>1.257558e+06</td>\n",
       "      <td>0.000000</td>\n",
       "      <td>2.014023e+07</td>\n",
       "      <td>0.247970</td>\n",
       "    </tr>\n",
       "    <tr>\n",
       "      <th>50%</th>\n",
       "      <td>2.545406e+06</td>\n",
       "      <td>2.545734e+06</td>\n",
       "      <td>1.000000</td>\n",
       "      <td>2.015060e+07</td>\n",
       "      <td>0.504459</td>\n",
       "    </tr>\n",
       "    <tr>\n",
       "      <th>75%</th>\n",
       "      <td>3.733760e+06</td>\n",
       "      <td>3.733331e+06</td>\n",
       "      <td>1.000000</td>\n",
       "      <td>2.016050e+07</td>\n",
       "      <td>0.754716</td>\n",
       "    </tr>\n",
       "    <tr>\n",
       "      <th>max</th>\n",
       "      <td>5.043389e+06</td>\n",
       "      <td>5.043389e+06</td>\n",
       "      <td>1.000000</td>\n",
       "      <td>2.017033e+07</td>\n",
       "      <td>0.999990</td>\n",
       "    </tr>\n",
       "  </tbody>\n",
       "</table>\n",
       "</div>"
      ],
      "text/plain": [
       "         Unnamed: 0         index        label          date      DIznQ_0\n",
       "count  3.000000e+03  2.999000e+03  3000.000000  3.000000e+03  3000.000000\n",
       "mean   2.506325e+06  2.504059e+06     0.584667  2.014775e+07     0.501175\n",
       "std    1.440648e+06  1.442769e+06     0.492862  1.377118e+04     0.290670\n",
       "min    1.088000e+03  1.088000e+03     0.000000  2.012070e+07     0.000468\n",
       "25%    1.266688e+06  1.257558e+06     0.000000  2.014023e+07     0.247970\n",
       "50%    2.545406e+06  2.545734e+06     1.000000  2.015060e+07     0.504459\n",
       "75%    3.733760e+06  3.733331e+06     1.000000  2.016050e+07     0.754716\n",
       "max    5.043389e+06  5.043389e+06     1.000000  2.017033e+07     0.999990"
      ]
     },
     "execution_count": 8,
     "metadata": {},
     "output_type": "execute_result"
    }
   ],
   "source": [
    "train_df.describe()"
   ]
  },
  {
   "cell_type": "code",
   "execution_count": 29,
   "metadata": {},
   "outputs": [
    {
     "data": {
      "text/html": [
       "<div>\n",
       "<style scoped>\n",
       "    .dataframe tbody tr th:only-of-type {\n",
       "        vertical-align: middle;\n",
       "    }\n",
       "\n",
       "    .dataframe tbody tr th {\n",
       "        vertical-align: top;\n",
       "    }\n",
       "\n",
       "    .dataframe thead th {\n",
       "        text-align: right;\n",
       "    }\n",
       "</style>\n",
       "<table border=\"1\" class=\"dataframe\">\n",
       "  <thead>\n",
       "    <tr style=\"text-align: right;\">\n",
       "      <th></th>\n",
       "      <th>index</th>\n",
       "      <th>label</th>\n",
       "      <th>date</th>\n",
       "      <th>DIznQ_0</th>\n",
       "    </tr>\n",
       "  </thead>\n",
       "  <tbody>\n",
       "    <tr>\n",
       "      <th>count</th>\n",
       "      <td>7.990000e+02</td>\n",
       "      <td>799.000000</td>\n",
       "      <td>8.000000e+02</td>\n",
       "      <td>800.000000</td>\n",
       "    </tr>\n",
       "    <tr>\n",
       "      <th>mean</th>\n",
       "      <td>5.634715e+06</td>\n",
       "      <td>0.474343</td>\n",
       "      <td>2.017145e+07</td>\n",
       "      <td>0.494891</td>\n",
       "    </tr>\n",
       "    <tr>\n",
       "      <th>std</th>\n",
       "      <td>3.572878e+05</td>\n",
       "      <td>0.499654</td>\n",
       "      <td>2.436138e+03</td>\n",
       "      <td>0.293460</td>\n",
       "    </tr>\n",
       "    <tr>\n",
       "      <th>min</th>\n",
       "      <td>4.995310e+06</td>\n",
       "      <td>0.000000</td>\n",
       "      <td>2.017033e+07</td>\n",
       "      <td>0.001358</td>\n",
       "    </tr>\n",
       "    <tr>\n",
       "      <th>25%</th>\n",
       "      <td>5.328802e+06</td>\n",
       "      <td>0.000000</td>\n",
       "      <td>2.017061e+07</td>\n",
       "      <td>0.228553</td>\n",
       "    </tr>\n",
       "    <tr>\n",
       "      <th>50%</th>\n",
       "      <td>5.635883e+06</td>\n",
       "      <td>0.000000</td>\n",
       "      <td>2.017080e+07</td>\n",
       "      <td>0.489690</td>\n",
       "    </tr>\n",
       "    <tr>\n",
       "      <th>75%</th>\n",
       "      <td>5.933428e+06</td>\n",
       "      <td>1.000000</td>\n",
       "      <td>2.017102e+07</td>\n",
       "      <td>0.756504</td>\n",
       "    </tr>\n",
       "    <tr>\n",
       "      <th>max</th>\n",
       "      <td>6.258792e+06</td>\n",
       "      <td>1.000000</td>\n",
       "      <td>2.018013e+07</td>\n",
       "      <td>0.998995</td>\n",
       "    </tr>\n",
       "  </tbody>\n",
       "</table>\n",
       "</div>"
      ],
      "text/plain": [
       "              index       label          date     DIznQ_0\n",
       "count  7.990000e+02  799.000000  8.000000e+02  800.000000\n",
       "mean   5.634715e+06    0.474343  2.017145e+07    0.494891\n",
       "std    3.572878e+05    0.499654  2.436138e+03    0.293460\n",
       "min    4.995310e+06    0.000000  2.017033e+07    0.001358\n",
       "25%    5.328802e+06    0.000000  2.017061e+07    0.228553\n",
       "50%    5.635883e+06    0.000000  2.017080e+07    0.489690\n",
       "75%    5.933428e+06    1.000000  2.017102e+07    0.756504\n",
       "max    6.258792e+06    1.000000  2.018013e+07    0.998995"
      ]
     },
     "execution_count": 29,
     "metadata": {},
     "output_type": "execute_result"
    }
   ],
   "source": [
    "test_df.describe()"
   ]
  },
  {
   "cell_type": "markdown",
   "metadata": {},
   "source": [
    "#### Initial Observations:\n",
    "\n",
    "1. Train Data:\n",
    "\n",
    "Data Shape: The dataset contains 3030 rows and 10 columns.\n",
    "\n",
    "Missing Values: Some columns have missing values. For instance:\n",
    "\n",
    "Unnamed: 0: 30 missing values\n",
    "\n",
    "index: 31 missing values\n",
    "\n",
    "claim_id, patent_application_id, cited_document_id, text, text_b, label, date, DIznQ_0: 30 missing values\n",
    "\n",
    "2. Test Data:\n",
    "\n",
    "Data Shape: The dataset contains 808 rows and 9 columns\n",
    "\n",
    "Similar to the training set there are missing values."
   ]
  },
  {
   "cell_type": "markdown",
   "metadata": {},
   "source": [
    "#### Columns Description:\n",
    "\n",
    "Unnamed: 0, index: Seem to be index columns, might be redundant.\n",
    "\n",
    "claim_id, patent_application_id, cited_document_id: Identifiers for patents and claims.\n",
    "\n",
    "text, text_b: Textual data, for claims and descriptions.\n",
    "\n",
    "label: Target variable, binary (0 or 1).\n",
    "\n",
    "date: Numeric representation of a date, perhaps for the patent application. \n",
    "\n",
    "DIznQ_0: Numeric feature, perhaps a score or metric."
   ]
  },
  {
   "cell_type": "markdown",
   "metadata": {},
   "source": [
    "### Variable Analysis"
   ]
  },
  {
   "cell_type": "markdown",
   "metadata": {},
   "source": [
    "For our text classification problem we can assume that the date is not an important feature. \n",
    "\n",
    "That leave us with the text, text_b columns as input features; label as the target variable; and DIznQ_0 as an interrogant. \n",
    "\n",
    "Let's explore further."
   ]
  },
  {
   "cell_type": "markdown",
   "metadata": {},
   "source": [
    "#### Target Variable Distribution"
   ]
  },
  {
   "cell_type": "code",
   "execution_count": 33,
   "metadata": {},
   "outputs": [
    {
     "data": {
      "image/png": "[encoded data removed]",
      "text/plain": [
       "<Figure size 500x300 with 1 Axes>"
      ]
     },
     "metadata": {},
     "output_type": "display_data"
    },
    {
     "data": {
      "image/png": "[encoded data removed]",
      "text/plain": [
       "<Figure size 500x300 with 1 Axes>"
      ]
     },
     "metadata": {},
     "output_type": "display_data"
    }
   ],
   "source": [
    "\n",
    "import matplotlib.pyplot as plt\n",
    "import seaborn as sns\n",
    "\n",
    "\n",
    "# Plot for the target variable (label) distribution in train data\n",
    "plt.figure(figsize=(5, 3))\n",
    "sns.countplot(x='label', data=train_df)\n",
    "plt.title('Label Distribution in Train Data')\n",
    "plt.xlabel('Label')\n",
    "plt.ylabel('Count')\n",
    "plt.show()\n",
    "\n",
    "# Plot for the target variable (label) distribution in test data\n",
    "plt.figure(figsize=(5, 3))\n",
    "sns.countplot(x='label', data=test_df)\n",
    "plt.title('Label Distribution in Test Data')\n",
    "plt.xlabel('Label')\n",
    "plt.ylabel('Count')\n",
    "plt.show()\n"
   ]
  },
  {
   "cell_type": "markdown",
   "metadata": {},
   "source": [
    "The target variable is slightly umbalance on the training set but not at a magnitude for taking any precautionary measures."
   ]
  },
  {
   "cell_type": "markdown",
   "metadata": {},
   "source": [
    "Let's further inspect DIznQ_0."
   ]
  },
  {
   "cell_type": "markdown",
   "metadata": {},
   "source": [
    "#### DIznQ_0 Distribution Analysis"
   ]
  },
  {
   "cell_type": "code",
   "execution_count": 45,
   "metadata": {},
   "outputs": [
    {
     "data": {
      "image/png": "[encoded data removed]",
      "text/plain": [
       "<Figure size 1000x300 with 1 Axes>"
      ]
     },
     "metadata": {},
     "output_type": "display_data"
    },
    {
     "data": {
      "image/png": "[encoded data removed]",
      "text/plain": [
       "<Figure size 1000x300 with 1 Axes>"
      ]
     },
     "metadata": {},
     "output_type": "display_data"
    }
   ],
   "source": [
    "# Plot the distribution of DIznQ_0\n",
    "plt.figure(figsize=(10, 3))\n",
    "sns.histplot(train_df['DIznQ_0'], kde=True)\n",
    "plt.title('Distribution of DIznQ_0')\n",
    "plt.xlabel('DIznQ_0')\n",
    "plt.ylabel('Frequency')\n",
    "plt.show()\n",
    "\n",
    "# Compare distribution of DIznQ_0 across different label values\n",
    "plt.figure(figsize=(10, 3))\n",
    "sns.histplot(data=train_df, x='DIznQ_0', hue='label', kde=True, element='step')\n",
    "plt.title('Distribution of DIznQ_0 by Label')\n",
    "plt.xlabel('DIznQ_0')\n",
    "plt.ylabel('Frequency')\n",
    "plt.show()\n"
   ]
  },
  {
   "cell_type": "markdown",
   "metadata": {},
   "source": [
    "#### DIznQ_0 Correlation Analysis"
   ]
  },
  {
   "cell_type": "code",
   "execution_count": 48,
   "metadata": {},
   "outputs": [
    {
     "name": "stdout",
     "output_type": "stream",
     "text": [
      "Correlation between DIznQ_0 and label: -0.01292528900552642\n"
     ]
    }
   ],
   "source": [
    "# Calculate and display correlation with the target variable\n",
    "correlation = train_df['DIznQ_0'].corr(train_df['label'])\n",
    "print(f\"Correlation between DIznQ_0 and label: {correlation}\")"
   ]
  },
  {
   "cell_type": "markdown",
   "metadata": {},
   "source": [
    "#### Statistical Test (t-test)\n",
    "\n",
    "Performs a t-test to check if the mean of DIznQ_0 is significantly different between the classes of the target variable."
   ]
  },
  {
   "cell_type": "code",
   "execution_count": 54,
   "metadata": {},
   "outputs": [
    {
     "name": "stdout",
     "output_type": "stream",
     "text": [
      "Variance of DIznQ_0 for label 0: 0.0859700229875965\n",
      "Variance of DIznQ_0 for label 1: 0.08352534800870284\n",
      "T-test result: t-statistic = 0.7043388463833133, p-value = 0.4812770203497936\n"
     ]
    }
   ],
   "source": [
    "from scipy.stats import ttest_ind\n",
    "\n",
    "# Drop rows where DIznQ_0 or label are NaN\n",
    "cleaned_df = train_df.dropna(subset=['DIznQ_0', 'label'])\n",
    "\n",
    "# Ensure DIznQ_0 is a numeric type\n",
    "cleaned_df.loc[:, 'DIznQ_0'] = pd.to_numeric(cleaned_df['DIznQ_0'], errors='coerce')\n",
    "\n",
    "# Check for variance\n",
    "print(\"Variance of DIznQ_0 for label 0:\", cleaned_df[cleaned_df['label'] == 0]['DIznQ_0'].var())\n",
    "print(\"Variance of DIznQ_0 for label 1:\", cleaned_df[cleaned_df['label'] == 1]['DIznQ_0'].var())\n",
    "\n",
    "# Statistical Test (t-test)\n",
    "# Separate DIznQ_0 values by label\n",
    "label_0 = cleaned_df[cleaned_df['label'] == 0]['DIznQ_0']\n",
    "label_1 = cleaned_df[cleaned_df['label'] == 1]['DIznQ_0']\n",
    "\n",
    "# Perform t-test\n",
    "t_stat, p_val = ttest_ind(label_0, label_1, nan_policy='omit')\n",
    "print(f\"T-test result: t-statistic = {t_stat}, p-value = {p_val}\")"
   ]
  },
  {
   "cell_type": "markdown",
   "metadata": {},
   "source": [
    "#### Conclusions"
   ]
  },
  {
   "cell_type": "markdown",
   "metadata": {},
   "source": [
    "1. Distribution Analysis:\n",
    "\n",
    "The distribution of DIznQ_0 is uniform, both when considered alone and against the target variable (label).\n",
    "This uniform distribution suggests that DIznQ_0 does not have distinct patterns or clusters that differentiate between the classes of the target variable.\n",
    "\n",
    "2. Correlation Analysis:\n",
    "\n",
    "The correlation between DIznQ_0 and the target variable (label) is very low (-0.0129).\n",
    "This indicates that there is almost no linear relationship between DIznQ_0 and label.\n",
    "\n",
    "3. Variance Analysis:\n",
    "\n",
    "The variances of DIznQ_0 for both labels are very similar (0.08597 for label 0 and 0.08353 for label 1).\n",
    "The similarity in variances suggests that DIznQ_0 does not show different spread or variability for the different classes of the target variable.\n",
    "\n",
    "4. T-test:\n",
    "\n",
    "The t-test result shows a t-statistic of 0.704 and a p-value of 0.481.\n",
    "The high p-value (greater than 0.05) indicates that the difference in means of DIznQ_0 between the two labels is not statistically significant.\n",
    "\n",
    "Conclusion:\n",
    "The analysis of the DIznQ_0 feature indicates that it is not a significant predictor of the target variable (label). The uniform distribution, low correlation, similar variances across labels, and non-significant t-test result all suggest that DIznQ_0 does not have a strong influence on the target variable.\n",
    "\n",
    "Given these findings, I consider to exclude DIznQ_0 from the model."
   ]
  },
  {
   "cell_type": "markdown",
   "metadata": {},
   "source": [
    "### Missing Data Handling"
   ]
  },
  {
   "cell_type": "code",
   "execution_count": 55,
   "metadata": {},
   "outputs": [
    {
     "data": {
      "text/html": [
       "<div>\n",
       "<style scoped>\n",
       "    .dataframe tbody tr th:only-of-type {\n",
       "        vertical-align: middle;\n",
       "    }\n",
       "\n",
       "    .dataframe tbody tr th {\n",
       "        vertical-align: top;\n",
       "    }\n",
       "\n",
       "    .dataframe thead th {\n",
       "        text-align: right;\n",
       "    }\n",
       "</style>\n",
       "<table border=\"1\" class=\"dataframe\">\n",
       "  <thead>\n",
       "    <tr style=\"text-align: right;\">\n",
       "      <th></th>\n",
       "      <th>Missing Values</th>\n",
       "      <th>Percentage</th>\n",
       "    </tr>\n",
       "  </thead>\n",
       "  <tbody>\n",
       "    <tr>\n",
       "      <th>Unnamed: 0</th>\n",
       "      <td>30</td>\n",
       "      <td>0.990099</td>\n",
       "    </tr>\n",
       "    <tr>\n",
       "      <th>index</th>\n",
       "      <td>31</td>\n",
       "      <td>1.023102</td>\n",
       "    </tr>\n",
       "    <tr>\n",
       "      <th>claim_id</th>\n",
       "      <td>30</td>\n",
       "      <td>0.990099</td>\n",
       "    </tr>\n",
       "    <tr>\n",
       "      <th>patent_application_id</th>\n",
       "      <td>30</td>\n",
       "      <td>0.990099</td>\n",
       "    </tr>\n",
       "    <tr>\n",
       "      <th>cited_document_id</th>\n",
       "      <td>30</td>\n",
       "      <td>0.990099</td>\n",
       "    </tr>\n",
       "    <tr>\n",
       "      <th>text</th>\n",
       "      <td>30</td>\n",
       "      <td>0.990099</td>\n",
       "    </tr>\n",
       "    <tr>\n",
       "      <th>text_b</th>\n",
       "      <td>30</td>\n",
       "      <td>0.990099</td>\n",
       "    </tr>\n",
       "    <tr>\n",
       "      <th>label</th>\n",
       "      <td>30</td>\n",
       "      <td>0.990099</td>\n",
       "    </tr>\n",
       "    <tr>\n",
       "      <th>date</th>\n",
       "      <td>30</td>\n",
       "      <td>0.990099</td>\n",
       "    </tr>\n",
       "    <tr>\n",
       "      <th>DIznQ_0</th>\n",
       "      <td>30</td>\n",
       "      <td>0.990099</td>\n",
       "    </tr>\n",
       "  </tbody>\n",
       "</table>\n",
       "</div>"
      ],
      "text/plain": [
       "                       Missing Values  Percentage\n",
       "Unnamed: 0                         30    0.990099\n",
       "index                              31    1.023102\n",
       "claim_id                           30    0.990099\n",
       "patent_application_id              30    0.990099\n",
       "cited_document_id                  30    0.990099\n",
       "text                               30    0.990099\n",
       "text_b                             30    0.990099\n",
       "label                              30    0.990099\n",
       "date                               30    0.990099\n",
       "DIznQ_0                            30    0.990099"
      ]
     },
     "execution_count": 55,
     "metadata": {},
     "output_type": "execute_result"
    }
   ],
   "source": [
    "missing_values = train_df.isnull().sum()\n",
    "missing_percentage = (missing_values / len(train_df)) * 100\n",
    "\n",
    "missing_data = pd.DataFrame({'Missing Values': missing_values, 'Percentage': missing_percentage})\n",
    "missing_data\n"
   ]
  },
  {
   "cell_type": "markdown",
   "metadata": {},
   "source": [
    "Since we are dealing with specific text data we need to delete the rows with missing and problematic values."
   ]
  },
  {
   "cell_type": "code",
   "execution_count": 56,
   "metadata": {},
   "outputs": [
    {
     "data": {
      "text/plain": [
       "Unnamed: 0               0\n",
       "index                    0\n",
       "claim_id                 0\n",
       "patent_application_id    0\n",
       "cited_document_id        0\n",
       "text                     0\n",
       "text_b                   0\n",
       "label                    0\n",
       "date                     0\n",
       "DIznQ_0                  0\n",
       "dtype: int64"
      ]
     },
     "execution_count": 56,
     "metadata": {},
     "output_type": "execute_result"
    }
   ],
   "source": [
    "# Remove rows with missing values\n",
    "cleaned_train_data = train_df.dropna()\n",
    "\n",
    "# Verify that there are no more missing values\n",
    "missing_values_after_cleaning = cleaned_train_data.isnull().sum()\n",
    "\n",
    "missing_values_after_cleaning"
   ]
  },
  {
   "cell_type": "code",
   "execution_count": 57,
   "metadata": {},
   "outputs": [
    {
     "data": {
      "text/plain": [
       "2741"
      ]
     },
     "execution_count": 57,
     "metadata": {},
     "output_type": "execute_result"
    }
   ],
   "source": [
    "cleaned_train_data.shape[0]"
   ]
  },
  {
   "cell_type": "code",
   "execution_count": 58,
   "metadata": {},
   "outputs": [
    {
     "data": {
      "text/plain": [
       "index                    0\n",
       "claim_id                 0\n",
       "patent_application_id    0\n",
       "cited_document_id        0\n",
       "text                     0\n",
       "text_b                   0\n",
       "label                    0\n",
       "date                     0\n",
       "DIznQ_0                  0\n",
       "dtype: int64"
      ]
     },
     "execution_count": 58,
     "metadata": {},
     "output_type": "execute_result"
    }
   ],
   "source": [
    "# Remove rows with missing values\n",
    "cleaned_test_data = test_df.dropna()\n",
    "\n",
    "# Verify that there are no more missing values\n",
    "missing_values_after_cleaning = cleaned_test_data.isnull().sum()\n",
    "\n",
    "missing_values_after_cleaning"
   ]
  },
  {
   "cell_type": "code",
   "execution_count": 59,
   "metadata": {},
   "outputs": [
    {
     "data": {
      "text/plain": [
       "741"
      ]
     },
     "execution_count": 59,
     "metadata": {},
     "output_type": "execute_result"
    }
   ],
   "source": [
    "cleaned_test_data.shape[0]"
   ]
  },
  {
   "cell_type": "markdown",
   "metadata": {},
   "source": [
    "After seing the count of values left we can see that many values were dropped, this is an indication that the missing values are dispersed and are not entire empty rows. To minimize the number of rows dropped I will only take the principal columns text, text_b, and label, and then drop the rows with missing values. "
   ]
  },
  {
   "cell_type": "code",
   "execution_count": 60,
   "metadata": {},
   "outputs": [
    {
     "name": "stdout",
     "output_type": "stream",
     "text": [
      "Train shape: (3030, 3). Test shape: (808, 3)\n",
      "Final shape after dropping rows with null values, Train: (2941, 3). Test: (783, 3)\n"
     ]
    }
   ],
   "source": [
    "# Select only the 3 principal columns: text, text_b, and label\n",
    "new_train_data = train_df[['text', 'text_b', 'label']]\n",
    "new_test_data = test_df[['text', 'text_b', 'label']]\n",
    "\n",
    "# Display initial shape\n",
    "train_shape = new_train_data.shape\n",
    "test_shape = new_test_data.shape\n",
    "print(f\"Train shape: {train_shape}. Test shape: {test_shape}\")\n",
    "\n",
    "# Drop rows with null values in the selected columns\n",
    "cleaned_train_data = new_train_data.dropna()\n",
    "cleaned_test_data = new_test_data.dropna()\n",
    "\n",
    "# Display final shape\n",
    "afterdrop_train_shape = cleaned_train_data.shape\n",
    "afterdrop_test_shape = cleaned_test_data.shape\n",
    "print(f\"Final shape after dropping rows with null values, Train: {afterdrop_train_shape}. Test: {afterdrop_test_shape}\")"
   ]
  },
  {
   "cell_type": "markdown",
   "metadata": {},
   "source": [
    "Well, now we have more data to work :)"
   ]
  },
  {
   "cell_type": "markdown",
   "metadata": {},
   "source": [
    "Now I want to ensure type consistency for the training and test data. For that I will separate inconsistent rows for further inspection."
   ]
  },
  {
   "cell_type": "code",
   "execution_count": 61,
   "metadata": {},
   "outputs": [
    {
     "name": "stdout",
     "output_type": "stream",
     "text": [
      "Final count of valid training data: 2941\n",
      "Training data types:\n",
      "text      object\n",
      "text_b    object\n",
      "label      int32\n",
      "dtype: object\n",
      "Final count of valid test data: 783\n",
      "Test data types:\n",
      "text      object\n",
      "text_b    object\n",
      "label      int32\n",
      "dtype: object\n",
      "Invalid train count 0\n",
      "Invalid test count 0\n"
     ]
    }
   ],
   "source": [
    "# Function to ensure consistent data types and separate invalid rows\n",
    "def ensure_and_separate_types(df):\n",
    "    # Create DataFrames to hold valid and invalid rows\n",
    "    valid_rows = []\n",
    "    invalid_rows = []\n",
    "    \n",
    "    # Iterate over rows to check types\n",
    "    for index, row in df.iterrows():\n",
    "        if isinstance(row['text'], str) and isinstance(row['text_b'], str) and isinstance(row['label'], (int, float)):\n",
    "            # If types are correct, add to valid_rows\n",
    "            valid_rows.append(row)\n",
    "        else:\n",
    "            # If types are incorrect, add to invalid_rows\n",
    "            invalid_rows.append(row)\n",
    "    \n",
    "    # Convert lists to DataFrames\n",
    "    valid_df = pd.DataFrame(valid_rows)\n",
    "    invalid_df = pd.DataFrame(invalid_rows)\n",
    "    \n",
    "    # Ensure consistent types for valid rows\n",
    "    valid_df['text'] = valid_df['text'].astype(str)\n",
    "    valid_df['text_b'] = valid_df['text_b'].astype(str)\n",
    "    valid_df['label'] = valid_df['label'].astype(int)\n",
    "    \n",
    "    return valid_df, invalid_df\n",
    "\n",
    "# Apply the function to the cleaned training and test dataset\n",
    "valid_train_data, invalid_train_data = ensure_and_separate_types(cleaned_train_data)\n",
    "valid_test_data, invalid_test_data = ensure_and_separate_types(cleaned_test_data)\n",
    "\n",
    "# Final counts of the training and test data\n",
    "train_count = valid_train_data.shape[0]\n",
    "test_count = valid_test_data.shape[0] \n",
    "\n",
    "invalid_train_count = invalid_train_data.shape[0]\n",
    "invalid_test_count = invalid_test_data.shape[0] \n",
    "\n",
    "# Verifying data types\n",
    "train_data_types = valid_train_data.dtypes[['text', 'text_b', 'label']]\n",
    "test_data_types = valid_test_data.dtypes[['text', 'text_b', 'label']]  \n",
    "\n",
    "print(f\"Final count of valid training data: {train_count}\")\n",
    "print(\"Training data types:\")\n",
    "print(train_data_types)\n",
    "\n",
    "print(f\"Final count of valid test data: {test_count}\")  \n",
    "print(\"Test data types:\")  \n",
    "print(test_data_types)  \n",
    "\n",
    "print(f\"Invalid train count {invalid_train_count}\")\n",
    "print(f\"Invalid test count {invalid_test_count}\")\n"
   ]
  },
  {
   "cell_type": "markdown",
   "metadata": {},
   "source": [
    "Now we have the data without null values and with consistent data"
   ]
  },
  {
   "cell_type": "markdown",
   "metadata": {},
   "source": [
    "### Save the final data in csv and jsonl for training "
   ]
  },
  {
   "cell_type": "code",
   "execution_count": 62,
   "metadata": {},
   "outputs": [],
   "source": [
    "# Save the cleaned data to CSV\n",
    "valid_train_data.to_csv('../data/transformed/cleaned_train_data.csv', index=False)\n",
    "valid_test_data.to_csv('../data/transformed/cleaned_test_data.csv', index=False)\n",
    "\n",
    "# Save the cleaned data to JSON Lines (jsonl)\n",
    "valid_train_data.to_json('../data/transformed/cleaned_train_data.jsonl', orient='records', lines=True)\n",
    "valid_test_data.to_json('../data/transformed/cleaned_test_data.jsonl', orient='records', lines=True)"
   ]
  },
  {
   "cell_type": "code",
   "execution_count": null,
   "metadata": {},
   "outputs": [],
   "source": []
  }
 ],
 "metadata": {
  "kernelspec": {
   "display_name": "Python 3",
   "language": "python",
   "name": "python3"
  },
  "language_info": {
   "codemirror_mode": {
    "name": "ipython",
    "version": 3
   },
   "file_extension": ".py",
   "mimetype": "text/x-python",
   "name": "python",
   "nbconvert_exporter": "python",
   "pygments_lexer": "ipython3",
   "version": "3.10.14"
  }
 },
 "nbformat": 4,
 "nbformat_minor": 2
}
